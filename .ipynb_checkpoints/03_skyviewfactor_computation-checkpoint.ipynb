{
 "cells": [
  {
   "cell_type": "markdown",
   "metadata": {},
   "source": [
    "# Skyview Factor computation\n",
    "\n",
    "In this notebook, we generate raster tiles for sky view factor and topographic correction factor as reported by this papers :\n",
    "- Helbig, N., et al. “Parameterizing Surface Wind Speed over Complex Topography.” 2017"
   ]
  },
  {
   "cell_type": "code",
   "execution_count": 1,
   "metadata": {},
   "outputs": [],
   "source": [
    "import geopandas as gpd\n",
    "import numpy as np\n",
    "import rasterio\n",
    "from scipy import signal"
   ]
  },
  {
   "cell_type": "code",
   "execution_count": 3,
   "metadata": {},
   "outputs": [],
   "source": [
    "dem = rasterio.open('C:/Users/PaulBillecocq/Documents/UdS/KRG_DATA/a3d-prep/utm18n/dem/DEM-hrdps-grid-extent-5m-cleaned.tif')\n",
    "hrdps_cells = gpd.read_file('C:/Users/PaulBillecocq/Documents/UdS/KRG_DATA/vecteurs/HRDPS/sim_grid_cells_shapefile_hrdps_epsg_2951_centroid_based.gpkg')\n",
    "dem_array = dem.read(1)"
   ]
  },
  {
   "cell_type": "markdown",
   "metadata": {},
   "source": [
    "## Part 1 : Sky View Factor Computation"
   ]
  },
  {
   "cell_type": "markdown",
   "metadata": {},
   "source": [
    "### Mean squared slope\n",
    "\n",
    "$\\mu = \\frac{\\overline{[(z_{i,j} - z_{i+1,j})^2 + (z_{i,j} - z_{i,j+1})^2]}^{1/2}}{\\Delta x\\sqrt{2}}$\n",
    "\n",
    "We will be using two convolution kernels to compute the two coordinates related sums. Those arrays will then be squared separately, then summed, averaged, and sqrted"
   ]
  },
  {
   "cell_type": "code",
   "execution_count": 4,
   "metadata": {},
   "outputs": [],
   "source": [
    "def compute_mean_squared_slope(input_array, delta_x):\n",
    "    '''\n",
    "    Computes the mean squared slope according to Helbig, N., and Löwe, H. (2014), \n",
    "    Parameterization of the spatially averaged sky view factor in complex topography, J. Geophys. Res. Atmos., 119, 4616– 4625, doi:10.1002/2013JD020892.\n",
    "    \n",
    "    Parameters:\n",
    "    input_array (np.array): array of elevations values on which to compute mean squared slope\n",
    "    delta_x (float): cell resolution of the dem array in meters\n",
    "    \n",
    "    Returns:\n",
    "    mu (float): mean squared slope value\n",
    "    '''\n",
    "    kernel_1 = np.array([\n",
    "        [0, 0, 0],\n",
    "        [0, 1, 0],\n",
    "        [0, -1, 0]\n",
    "    ])\n",
    "\n",
    "    kernel_2 = np.array([\n",
    "        [0, 0, 0],\n",
    "        [0, 1, -1],\n",
    "        [0, 0 , 0]\n",
    "    ])\n",
    "\n",
    "    # Compute convolution of both kernels on the dem array. Reduce their size to ensure that they are same size and that each cell is corresponding and that each cell was computed without using padded data\n",
    "    member_1 = signal.convolve2d(input_array, kernel_1, mode='same')[1:,:-1]\n",
    "    member_2 = signal.convolve2d(input_array, kernel_2, mode='same')[:-1,1:]\n",
    "    mu = np.sqrt(np.mean(np.square(member_1) + np.square(member_2))) / (delta_x * np.sqrt(2))\n",
    "    \n",
    "    return mu"
   ]
  },
  {
   "cell_type": "markdown",
   "metadata": {},
   "source": [
    "### Typical width of topographic features\n",
    "\n",
    "$\\xi = \\frac{\\sigma_{DEM}\\sqrt{2}}{\\mu}$"
   ]
  },
  {
   "cell_type": "code",
   "execution_count": 5,
   "metadata": {},
   "outputs": [],
   "source": [
    "def compute_typical_width(mu, elevation_standard_deviation):\n",
    "    '''\n",
    "    Computes the typical width of topographic features (xi) in the provided DEM array, according to Helbig, N., and Löwe, H. (2014), \n",
    "    Parameterization of the spatially averaged sky view factor in complex topography, J. Geophys. Res. Atmos., 119, 4616– 4625, doi:10.1002/2013JD020892.\n",
    "    \n",
    "    Parameters:\n",
    "    mu (float): mean squared slope value for the corresponding dem_array\n",
    "    elevation_standard_deviation (float): standard deviation of elevation values on the desired DEM\n",
    "    \n",
    "    Returns:\n",
    "    xi (float): typical width of topographic features in the given dem array (in meters)\n",
    "    '''\n",
    "    xi = elevation_standard_deviation * np.sqrt(2) / mu\n",
    "    \n",
    "    return xi"
   ]
  },
  {
   "cell_type": "markdown",
   "metadata": {},
   "source": [
    "### Sky View Factor\n",
    "\n",
    "$F_{sky}(L/\\xi, \\mu) = \\Big ( 1 - \\Big (1 - \\frac{1}{(1 + a \\mu^{b})^{c}} \\Big ) e^{-d (L/\\xi)^{-2}} \\Big )$\n",
    "\n",
    "with a = 3.354688, b = 1.998767, c = 0.20286, and d = 5.951\n",
    "\n",
    "For more details, see : Helbig, N., and Löwe, H. (2014), Parameterization of the spatially averaged sky view factor in complex topography, J. Geophys. Res. Atmos., 119, 4616– 4625, doi:10.1002/2013JD020892.\n",
    "    "
   ]
  },
  {
   "cell_type": "code",
   "execution_count": 6,
   "metadata": {},
   "outputs": [],
   "source": [
    "def compute_sky_view_factor(mu, xi, L,):\n",
    "    '''\n",
    "    Computes the Sky View Factor as stated above\n",
    "    \n",
    "    Parameters:\n",
    "    mu (float): mean squared slope compute for the unresolved fine-scale topography\n",
    "    xi (float): typical width of topographic features in the given dem array (in meters)\n",
    "    L (float): cell resolution of the coarse resolution Numerical Weather Prediction cell (in meters)\n",
    "    \n",
    "    Returns:\n",
    "    F_sky (float): sky view factor paramter\n",
    "    '''\n",
    "    # Hard coded parameters, optimized by Helbig and Löwe in the 2014 paper.\n",
    "    a = 3.354688\n",
    "    b = 1.998767\n",
    "    c = 0.20286\n",
    "    d = 5.951\n",
    "    \n",
    "    F_sky = (1 - (1 - 1 / ((1 + a * mu ** b) ** c)) * np.exp(-d * (L / xi) ** (-2)))\n",
    "    \n",
    "    return F_sky"
   ]
  },
  {
   "cell_type": "markdown",
   "metadata": {},
   "source": [
    "### Compute Sky View Factor\n",
    "Basically, we need a value for $\\mu$ and $\\xi$ for each set of DEM pixels describing the geometry of each HRDPS' cell underlying topography. But there is one problem : HRDPS grid and DEM grid are not corresponding (HRDPS raw is not even on a plane ...).\n",
    "\n",
    "The idea is to compute the centroid of each HRDPS cell polygon, get it's reference pixel in the DEM array, and extract a 2.5 km x 2.5 km square around it. Compute geometric parameters, and populate the information in each row of the HRDPS grid geodataframe."
   ]
  },
  {
   "cell_type": "code",
   "execution_count": 7,
   "metadata": {},
   "outputs": [],
   "source": [
    "# DEM cell resolution in meters\n",
    "delta_x = 5\n",
    "# HRDPS cell resolution meters\n",
    "L = 2500"
   ]
  },
  {
   "cell_type": "code",
   "execution_count": 8,
   "metadata": {},
   "outputs": [],
   "source": [
    "def sky_view_factor_processing_wrapper(dem_raster, gdf_row):\n",
    "    '''\n",
    "    This function is meant to be used in the apply framework of a pandas DataFrame to generate sky view factor parameters for each cell\n",
    "    \n",
    "    Parameters:\n",
    "    dem_raster (rasterio object): rasterio object corresponding to the dem\n",
    "    gdf_row (gpd row): row of the apply function\n",
    "    '''\n",
    "    dem_array = dem_raster.read(1)\n",
    "    centroid = gdf_row['geometry'].centroid\n",
    "    try:\n",
    "        array_coords = dem_raster.index(centroid.x, centroid.y)\n",
    "        # Build a 125 x 125 array centered around the centroid (e.g. 2.5 km x 2.5 km)\n",
    "        array_subset = dem_array[(array_coords[0] - 250):(array_coords[0] + 251), (array_coords[1] - 250):(array_coords[1] + 251)]\n",
    "        mu = compute_mean_squared_slope(array_subset, delta_x)\n",
    "        xi = compute_typical_width(mu, np.std(dem_array))\n",
    "        F_sky = compute_sky_view_factor(mu, xi, L)\n",
    "        # Populate row with computed parameters\n",
    "        gdf_row['mu'] = mu\n",
    "        gdf_row['xi'] = xi\n",
    "        gdf_row['F_sky'] = F_sky\n",
    "\n",
    "        return gdf_row\n",
    "    except:\n",
    "        station = gdf_row['Station']\n",
    "        print(f'Exception processing cell {station}')\n",
    "        gdf_row['mu'] = np.nan\n",
    "        gdf_row['xi'] = np.nan\n",
    "        gdf_row['F_sky'] = np.nan\n",
    "        \n",
    "        return gdf_row"
   ]
  },
  {
   "cell_type": "code",
   "execution_count": null,
   "metadata": {},
   "outputs": [],
   "source": [
    "hrdps_cells = hrdps_cells.apply(lambda x : sky_view_factor_processing_wrapper(dem, x), axis=1)"
   ]
  },
  {
   "cell_type": "code",
   "execution_count": null,
   "metadata": {},
   "outputs": [],
   "source": [
    "hrdps_cells"
   ]
  },
  {
   "cell_type": "markdown",
   "metadata": {},
   "source": [
    "#### Save hrdps shapefile with Sky View Factor parameters as attributes"
   ]
  },
  {
   "cell_type": "code",
   "execution_count": null,
   "metadata": {},
   "outputs": [],
   "source": [
    "hrdps_cells.set_geometry('geometry', crs='EPSG:32611', inplace=True)\n",
    "hrdps_cells.dropna(inplace=True)\n",
    "hrdps_cells.to_file('ancillary_data/topographic_data/hrdps_grid_with_downscalingVW_topo_params.shp')"
   ]
  },
  {
   "cell_type": "markdown",
   "metadata": {},
   "source": [
    "## Part 2 : VW Downscaling"
   ]
  },
  {
   "cell_type": "markdown",
   "metadata": {},
   "source": [
    "### Elevation Laplacian\n",
    "\n",
    "$\\nabla^{2} z = \\nabla^{2}z' \\frac{\\Delta_x}{4}$\n",
    "\n",
    "$\\nabla^{2} z' = \\Big (z(x - \\Delta x, y) + z(x + \\Delta x, y) + z(x, y - \\Delta x) + z(x, y + \\Delta x) - 4z(x, y) \\Big ) \\big / \\Delta x^{2}$\n",
    "\n",
    "Again, we will be using a convolution kernel"
   ]
  },
  {
   "cell_type": "code",
   "execution_count": 9,
   "metadata": {},
   "outputs": [],
   "source": [
    "def compute_elevation_laplacien(input_array, delta_x):\n",
    "    '''\n",
    "    Computes the discrete elevation Laplacian according to formulation above\n",
    "    \n",
    "    Parameters:\n",
    "    input_array (np.array): array of elevations values\n",
    "    delta_x (float): cell resolution of the dem array in meters\n",
    "    \n",
    "    Returns:\n",
    "    nabla_z (np.array): elevation Laplacian\n",
    "    '''\n",
    "    kernel = np.array([\n",
    "        [0, 1, 0],\n",
    "        [1, -4, 1],\n",
    "        [0, 1, 0]\n",
    "    ])\n",
    "\n",
    "    # Compute convolution of laplacian kernel on the dem array. Reduce its size to ensure that each cell was computed without using padded data\n",
    "    nabla_z_array = signal.convolve2d(input_array, kernel, mode='valid') / (delta_x ** 2)\n",
    "    nabla_array_padded = np.ones(input_array.shape) * np.nan\n",
    "    nabla_array_padded[1:-1, 1:-1] = nabla_z_array\n",
    "    nabla_array_padded = nabla_array_padded * delta_x / 4\n",
    "    \n",
    "    return nabla_array_padded"
   ]
  },
  {
   "cell_type": "markdown",
   "metadata": {},
   "source": [
    "### Topographic downscaling factor\n",
    "\n",
    "$X_{topo}^{dsc}(\\nabla^{2}z, \\mu) = \\Big ( 1 - \\frac{a' \\nabla^{2}z}{1 + a' |\\nabla^{2}z|^{b'}} \\Big ) \\frac{c'}{1 + d'\\mu^{e'}}$\n",
    "\n",
    "with a′ = 17.0393, b′ = 0.737, c′ = 1.0234, d′ = 0.3794, and e′ = 1.9821\n",
    "\n",
    "For more details, see Helbig, N., et al. “Parameterizing Surface Wind Speed over Complex Topography.” Journal of Geophysical Research: Atmospheres, vol. 122, no. 2, John Wiley & Sons, Ltd, Jan. 2017, pp. 651–67, doi:10.1002/2016JD025593."
   ]
  },
  {
   "cell_type": "code",
   "execution_count": 10,
   "metadata": {},
   "outputs": [],
   "source": [
    "def compute_downscaling_factor(elevation_laplacian, mu):\n",
    "    '''\n",
    "    Computes downscaling according to the definition above.\n",
    "    \n",
    "    Parameters:\n",
    "    elevation_laplacian_array (float): elevation laplacian value\n",
    "    mu (float): mean squared slope value for the overlying HRDPS cell\n",
    "    \n",
    "    Returns:\n",
    "    x_dsc_topo (float): downscaling factor for current pixel\n",
    "    '''\n",
    "    # Constant parameters c.f. Helbig et. al., 2017\n",
    "    a_prime = 17.0393\n",
    "    b_prime = 0.737\n",
    "    c_prime = 1.0234\n",
    "    d_prime = 0.3794\n",
    "    e_prime = 1.9821\n",
    "    \n",
    "    x_dsc_topo = (1 - (a_prime * elevation_laplacian) / (1 + a_prime * np.abs(elevation_laplacian) ** b_prime)) * c_prime / (1 + d_prime + mu ** e_prime)\n",
    "    \n",
    "    return x_dsc_topo\n",
    "\n",
    "compute_downscaling_factor_vectorized = np.vectorize(compute_downscaling_factor)"
   ]
  },
  {
   "cell_type": "code",
   "execution_count": 11,
   "metadata": {},
   "outputs": [],
   "source": [
    "def subset_array(full_array, center_coordinates):\n",
    "    '''\n",
    "    Subsets the input array in 250*250 array centered on the pixel\n",
    "    '''\n",
    "    array_subset = full_array[(center_coordinates[0] - 250):(center_coordinates[0] + 251), (center_coordinates[1] - 250):(center_coordinates[1] + 251)]\n",
    "    \n",
    "    return array_subset\n",
    "    \n",
    "def downscaling_parameters_processing_wrapper(gdf_row, dem_raster, F_array, X_array, nabla_array):\n",
    "    '''\n",
    "    This function is meant to be used in the apply framework of a pandas DataFrame to generate sky view factor and downscaling parameter for each DEM pixel\n",
    "    \n",
    "    Parameters:\n",
    "    dem_raster (rasterio object): rasterio object corresponding to the dem\n",
    "    gdf_row (gpd row): row of the apply function\n",
    "    '''\n",
    "    dem_array = dem_raster.read(1)\n",
    "    centroid = gdf_row['geometry'].centroid\n",
    "    array_coords = dem_raster.index(centroid.x, centroid.y)\n",
    "    dem_array_subset = subset_array(dem_array, array_coords)\n",
    "    nabla_array_subset = subset_array(nabla_array, array_coords)\n",
    "    \n",
    "    mu = compute_mean_squared_slope(dem_array_subset, delta_x)\n",
    "    xi = compute_typical_width(mu, np.std(dem_array))\n",
    "    try:\n",
    "        F_sky = compute_sky_view_factor(mu, xi, L)\n",
    "        X_dsc_topo_subarray = compute_downscaling_factor_vectorized(nabla_array_subset, mu)\n",
    "        # populate topo params array\n",
    "        F_array[(array_coords[0] - 250):(array_coords[0] + 251), (array_coords[1] - 250):(array_coords[1] + 251)] = F_sky\n",
    "        X_array[(array_coords[0] - 250):(array_coords[0] + 251), (array_coords[1] - 250):(array_coords[1] + 251)] = X_dsc_topo_subarray\n",
    "\n",
    "        return (F_array, X_array)\n",
    "    except:\n",
    "        return (-999, -999)"
   ]
  },
  {
   "cell_type": "code",
   "execution_count": 12,
   "metadata": {},
   "outputs": [
    {
     "name": "stdout",
     "output_type": "stream",
     "text": [
      "Processing VSTATION 938 at index 0\n",
      "Processing VSTATION 939 at index 1\n",
      "Processing VSTATION 940 at index 2\n",
      "Processing VSTATION 984 at index 3\n",
      "Processing VSTATION 985 at index 4\n",
      "Processing VSTATION 986 at index 5\n",
      "Processing VSTATION 1030 at index 6\n",
      "Processing VSTATION 1031 at index 7\n",
      "Processing VSTATION 1032 at index 8\n",
      "Processing VSTATION 1076 at index 9\n",
      "Processing VSTATION 1077 at index 10\n",
      "Processing VSTATION 1078 at index 11\n"
     ]
    }
   ],
   "source": [
    "F_array = np.ones(dem_array.shape) * np.nan\n",
    "X_array = np.ones(dem_array.shape) * np.nan\n",
    "nabla_array = compute_elevation_laplacien(dem_array, delta_x)\n",
    "\n",
    "for i in range(len(hrdps_cells)):\n",
    "    c_row = hrdps_cells.iloc[i]\n",
    "    print(f'Processing VSTATION {c_row.Station} at index {i}')\n",
    "    F_array, X_array = downscaling_parameters_processing_wrapper(c_row, dem, F_array, X_array, nabla_array)"
   ]
  },
  {
   "cell_type": "code",
   "execution_count": 13,
   "metadata": {},
   "outputs": [],
   "source": [
    " with rasterio.open(\n",
    "     'C:/Users/PaulBillecocq/Documents/UdS/KRG_DATA/a3d-prep/hrdps-subgridding-prep/X_dsc_topo.tif',\n",
    "     'w',\n",
    "     driver='GTiff',\n",
    "     height=X_array.shape[0],\n",
    "     width=X_array.shape[1],\n",
    "     count=1,\n",
    "     dtype=X_array.dtype,\n",
    "     crs=dem.crs,\n",
    "     transform=dem.transform,\n",
    " ) as dst:\n",
    "     dst.write(X_array, 1)"
   ]
  },
  {
   "cell_type": "code",
   "execution_count": 14,
   "metadata": {},
   "outputs": [],
   "source": [
    " with rasterio.open(\n",
    "     'C:/Users/PaulBillecocq/Documents/UdS/KRG_DATA/a3d-prep/hrdps-subgridding-prep/skf.tif',\n",
    "     'w',\n",
    "     driver='GTiff',\n",
    "     height=F_array.shape[0],\n",
    "     width=F_array.shape[1],\n",
    "     count=1,\n",
    "     dtype=F_array.dtype,\n",
    "     crs=dem.crs,\n",
    "     transform=dem.transform,\n",
    " ) as dst:\n",
    "     dst.write(F_array, 1)"
   ]
  }
 ],
 "metadata": {
  "kernelspec": {
   "display_name": "Python 3 (ipykernel)",
   "language": "python",
   "name": "python3"
  },
  "language_info": {
   "codemirror_mode": {
    "name": "ipython",
    "version": 3
   },
   "file_extension": ".py",
   "mimetype": "text/x-python",
   "name": "python",
   "nbconvert_exporter": "python",
   "pygments_lexer": "ipython3",
   "version": "3.12.3"
  }
 },
 "nbformat": 4,
 "nbformat_minor": 4
}
