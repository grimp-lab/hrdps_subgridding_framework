{
 "cells": [
  {
   "cell_type": "markdown",
   "metadata": {},
   "source": [
    "# Raw HRDPS prep : formatting for MeteoIO input\n",
    "\n",
    "The smet files headers are updated with new centroid information. The header is corrected to fit MeteoIO formatting\n",
    "\n",
    "Files are also downsampled to 10 minutes.\n",
    "\n",
    "\n",
    "/!\\ Some corrections in this notebooke were a bit hand-tailored to my specific needs (e.g. specific outliers in the raw HRDPS files). Do not hesitate to adapt this code to your needs. "
   ]
  },
  {
   "cell_type": "code",
   "execution_count": 1,
   "metadata": {},
   "outputs": [],
   "source": [
    "import pandas as pd\n",
    "import numpy as np\n",
    "import geopandas as gpd\n",
    "import os\n",
    "import pytz\n",
    "import sys"
   ]
  },
  {
   "cell_type": "markdown",
   "metadata": {},
   "source": [
    "## Function definitions"
   ]
  },
  {
   "cell_type": "code",
   "execution_count": 2,
   "metadata": {},
   "outputs": [],
   "source": [
    "def import_raw_smet(path):\n",
    "    '''\n",
    "    Read a raw smet file. Convert datetime from UTC to PDT as well\n",
    "    '''\n",
    "    gem_df = pd.read_csv(path,\n",
    "                        skiprows=18,\n",
    "                        sep='\\s+',\n",
    "                        parse_dates=True,\n",
    "                        index_col=0,\n",
    "                        names=['timestamp', 'TA', 'RH', 'VW', 'DW', 'ISWR', 'ILWR', 'PSUM'])\n",
    "    # Clean up glitch in the radiation variables\n",
    "    gem_df[gem_df['ISWR'] > 1500] = np.nan\n",
    "    gem_df[gem_df['ILWR'] > 600] = np.nan\n",
    "    gem_df.interpolate('linear', inplace=True)\n",
    "    gem_df.index = gem_df.index.tz_localize('UTC')\n",
    "    gem_df.index = gem_df.index.tz_convert('Canada/Pacific')\n",
    "    \n",
    "    return gem_df\n",
    "\n",
    "def format_header(path, columns):\n",
    "    '''\n",
    "    Replace the localisation parameters to the updated centroid. Make minor corrections as well.\n",
    "    '''\n",
    "    with open(path, 'r') as f:\n",
    "        data = f.readlines()\n",
    "    file_name = path.split('/')[-1]\n",
    "    station = int(file_name.split('.')[0][4:])\n",
    "    lat_line = data[4]\n",
    "    lon_line = data[5]\n",
    "    # Create dummy lines on the same format as lat/lon since easting/northing don't exist in the original file\n",
    "    x_line = data[4]\n",
    "    y_line = data[4]\n",
    "    lon = str(np.round(hrdps_cdem_4326[hrdps_cdem_4326['Station'] == station]['centroid'].values[0].x, 6))\n",
    "    lat = str(np.round(hrdps_cdem_4326[hrdps_cdem_4326['Station'] == station]['centroid'].values[0].y, 6))\n",
    "    x = str(np.round(hrdps_cdem[hrdps_cdem['Station'] == station]['centroid'].values[0].x, 6))\n",
    "    y = str(np.round(hrdps_cdem[hrdps_cdem['Station'] == station]['centroid'].values[0].y, 6))\n",
    "    \n",
    "    data[4] = data[4].replace('-999.000000', lat)\n",
    "    data[5] = data[5].replace('-999.000000', lon)\n",
    "                    \n",
    "    x_line = x_line.replace('latitude', 'easting')\n",
    "    x_line = x_line.replace('-999.000000', x)\n",
    "    data.insert(7, x_line)\n",
    "    \n",
    "    y_line = y_line.replace('latitude', 'northing')\n",
    "    y_line = y_line.replace('-999.000000', y)\n",
    "    data.insert(8, y_line)\n",
    "    data.insert(9, 'epsg              = 32611\\n')\n",
    "    header = data[:12] + data[19:21]\n",
    "    # Format the fields lime to the dataframe's columns order\n",
    "    header[12] = header[12].split('=')[0] + '= timestamp\\t' + '\\t'.join(columns) + '\\n'\n",
    "    \n",
    "    return header\n",
    "\n",
    "def write_smet(filename, met_df, header):\n",
    "    '''\n",
    "    Write corrected smet file\n",
    "    '''\n",
    "    with open(filename, 'w') as f:\n",
    "        for line in meteoio_header:\n",
    "            f.write(line)\n",
    "        met_df.to_csv(f, sep='\\t', float_format='%.3f', header=False, line_terminator='\\n')"
   ]
  },
  {
   "cell_type": "markdown",
   "metadata": {},
   "source": [
    "## Path setup"
   ]
  },
  {
   "cell_type": "code",
   "execution_count": 40,
   "metadata": {},
   "outputs": [],
   "source": [
    "# Path to centroid file\n",
    "hrdps_cdem = pd.read_pickle('../ancillary_data/topographic_data/hrdps_cdem_correspondance_custom_sorter_min_20x20.pkl')\n",
    "# Path to the original raw HRDPS files\n",
    "smet_root_path = 'D:/DATA/METEO_2019-2020/HRDPS/RAW'\n",
    "# Path to raw HRDPS files with updated centroid\n",
    "smet_dest_path = 'D:/DATA/METEO_2019-2020/HRDPS/METEOIO_READY_1H_good-geoloc_alpine3d-exp'"
   ]
  },
  {
   "cell_type": "markdown",
   "metadata": {},
   "source": [
    "## Main code "
   ]
  },
  {
   "cell_type": "code",
   "execution_count": 43,
   "metadata": {},
   "outputs": [],
   "source": [
    "# Add EPSG:4326 geometry to the hrdps_cdem dataframe. MeteoIO needs coordinates both in 32611 and 4326\n",
    "temp = hrdps_cdem.loc[:, ['Station', 'centroid', 'elevation']].copy()\n",
    "temp.geometry = temp['centroid']\n",
    "hrdps_cdem_4326 = temp.to_crs(4326)\n",
    "\n",
    "# perform header modification\n",
    "for station_number in list(hrdps_cdem_4326['Station'].values):\n",
    "    filename = f'VIR0{station_number}.smet'\n",
    "    full_smet_path = f'{smet_root_path}/{filename}'\n",
    "    raw_smet_df = import_raw_smet(full_smet_path)\n",
    "    # ten_min_smet_df = ten_minute_resample(raw_smet_df)\n",
    "    meteoio_header = format_header(full_smet_path, raw_smet_df.columns)\n",
    "    write_smet(f'{smet_dest_path}/{filename}', raw_smet_df, meteoio_header)"
   ]
  },
  {
   "cell_type": "code",
   "execution_count": null,
   "metadata": {},
   "outputs": [],
   "source": []
  }
 ],
 "metadata": {
  "kernelspec": {
   "display_name": "Python 3 (ipykernel)",
   "language": "python",
   "name": "python3"
  },
  "language_info": {
   "codemirror_mode": {
    "name": "ipython",
    "version": 3
   },
   "file_extension": ".py",
   "mimetype": "text/x-python",
   "name": "python",
   "nbconvert_exporter": "python",
   "pygments_lexer": "ipython3",
   "version": "3.8.13"
  }
 },
 "nbformat": 4,
 "nbformat_minor": 4
}
