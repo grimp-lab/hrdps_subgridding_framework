{
 "cells": [
  {
   "cell_type": "code",
   "execution_count": null,
   "metadata": {},
   "outputs": [],
   "source": [
    "import rasterio\n",
    "from rasterio.features import geometry_mask\n",
    "from rasterio.fill import fillnodata\n",
    "import geopandas as gpd\n",
    "import numpy as np\n",
    "\n",
    "import fiona\n",
    "from fiona.crs import from_epsg\n",
    "\n",
    "from rasterio.features import shapes\n",
    "from shapely.geometry import shape, mapping\n",
    "\n",
    "from scipy.ndimage import generic_filter\n"
   ]
  },
  {
   "cell_type": "markdown",
   "metadata": {},
   "source": [
    "### Create a nodata mask"
   ]
  },
  {
   "cell_type": "code",
   "execution_count": null,
   "metadata": {},
   "outputs": [],
   "source": [
    "# Read the DEM and nanify every no data cell\n",
    "dem = rasterio.open('C:/Users/PaulBillecocq/Documents/UdS/KRG_DATA/a3d-prep/dem/DEM-hrdps-grid-extent-5m.tif')\n",
    "dem_array = dem.read(1)\n",
    "# dem_array[dem_array < 0] = np.nan"
   ]
  },
  {
   "cell_type": "code",
   "execution_count": null,
   "metadata": {},
   "outputs": [],
   "source": [
    "# Create a nodata mask\n",
    "nodata_mask = np.isnan(dem_array)"
   ]
  },
  {
   "cell_type": "markdown",
   "metadata": {},
   "source": [
    "### Identify nan areas (lakes and sea) to apply the right elevation interpolation method "
   ]
  },
  {
   "cell_type": "code",
   "execution_count": null,
   "metadata": {},
   "outputs": [],
   "source": [
    "# Create a geopackage holding polygons for every no data shape (e.g. lakes and sea)\n",
    "results = (\n",
    "    {'properties': {'raster_val': v}, 'geometry': s}\n",
    "    for i, (s, v) in enumerate(shapes(dem_array, mask=nodata_mask, transform=dem.transform))\n",
    ")\n",
    "\n",
    "schema = {\n",
    "    'geometry': 'Polygon',\n",
    "    'properties': {'raster_val': 'int'},\n",
    "}\n",
    "\n",
    "with fiona.open('./nodata_polygons.gpkg', 'w', 'GPKG', schema, crs=from_epsg(2951)) as gpkg:\n",
    "    for result in results:\n",
    "        gpkg.write(result)\n",
    "\n",
    "# Lakes and sea are identified manually using QGIS at this point"
   ]
  },
  {
   "cell_type": "markdown",
   "metadata": {},
   "source": [
    "### Elevation interpolation\n",
    "Sea pixels should be set to 0, lake pixels should be interpolated according to their neighborhood"
   ]
  },
  {
   "cell_type": "code",
   "execution_count": null,
   "metadata": {},
   "outputs": [],
   "source": [
    "# Load polygons\n",
    "gdf = gpd.read_file('./nodata_polygons.gpkg')\n",
    "\n",
    "# Create masks for sea and lake with buffer for lake masks\n",
    "sea_mask = geometry_mask([geom for geom in gdf[gdf['Type'] == 'sea'].geometry], transform=dem.transform, invert=True, out_shape=dem.shape)\n",
    "#lake_mask = geometry_mask([geom.buffer(1) for geom in gdf[gdf['Type'] == 'lake'].geometry], transform=dem.transform, invert=True, out_shape=dem.shape)\n",
    "\n",
    "# Set sea areas to 0\n",
    "dem_array[sea_mask] = 0"
   ]
  },
  {
   "cell_type": "code",
   "execution_count": null,
   "metadata": {},
   "outputs": [],
   "source": [
    "lake_mask[lake_mask == True] = 0"
   ]
  },
  {
   "cell_type": "code",
   "execution_count": null,
   "metadata": {},
   "outputs": [],
   "source": [
    "dem.nodata"
   ]
  },
  {
   "cell_type": "code",
   "execution_count": null,
   "metadata": {},
   "outputs": [],
   "source": [
    "nodata_value = dem.nodata if dem.nodata is not None else -9999\n",
    "dem_array = fillnodata(image=dem_array, mask=(dem_array == nodata_value), max_search_distance=1)"
   ]
  },
  {
   "cell_type": "code",
   "execution_count": null,
   "metadata": {},
   "outputs": [],
   "source": [
    "# Save the modified DEM\n",
    "profile = dem.profile\n",
    "profile.update(\n",
    "    dtype=dem_array.dtype,\n",
    "    driver='GTiff'\n",
    ")\n",
    "with rasterio.open('C:/Users/PaulBillecocq/Documents/UdS/KRG_DATA/a3d-prep/dem/DEM-hrdps-grid-extent-5m-cleaned.tif', 'w', **profile) as dst:\n",
    "    dst.write(dem_array, 1)"
   ]
  },
  {
   "cell_type": "code",
   "execution_count": null,
   "metadata": {},
   "outputs": [],
   "source": [
    "dem_array.shape"
   ]
  }
 ],
 "metadata": {
  "kernelspec": {
   "display_name": "Python 3 (ipykernel)",
   "language": "python",
   "name": "python3"
  },
  "language_info": {
   "codemirror_mode": {
    "name": "ipython",
    "version": 3
   },
   "file_extension": ".py",
   "mimetype": "text/x-python",
   "name": "python",
   "nbconvert_exporter": "python",
   "pygments_lexer": "ipython3",
   "version": "3.12.3"
  }
 },
 "nbformat": 4,
 "nbformat_minor": 4
}
