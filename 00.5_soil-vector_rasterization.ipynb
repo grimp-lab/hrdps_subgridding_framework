{
 "cells": [
  {
   "cell_type": "markdown",
   "id": "2a87835a-9e84-4200-a749-2ac9b8645486",
   "metadata": {},
   "source": [
    "## Soil vector layer rasterization\n",
    "\n",
    "This notebook aims at properly rastering the surface depot polygon layer on the same grid as the DEM for use as an input later on with alpine3D.\n",
    "\n",
    "This not as straightforward as one may think."
   ]
  },
  {
   "cell_type": "code",
   "execution_count": 75,
   "id": "e7ade1ef-f338-4e33-bc83-55ecb02799c8",
   "metadata": {},
   "outputs": [],
   "source": [
    "import geopandas as gpd\n",
    "import rasterio\n",
    "import numpy as np\n",
    "from rasterio.features import rasterize\n",
    "from shapely.geometry import Polygon"
   ]
  },
  {
   "cell_type": "code",
   "execution_count": 46,
   "id": "f3f9b5fd-c4ff-433f-8c0d-371975780c95",
   "metadata": {},
   "outputs": [
    {
     "data": {
      "text/html": [
       "<div>\n",
       "<style scoped>\n",
       "    .dataframe tbody tr th:only-of-type {\n",
       "        vertical-align: middle;\n",
       "    }\n",
       "\n",
       "    .dataframe tbody tr th {\n",
       "        vertical-align: top;\n",
       "    }\n",
       "\n",
       "    .dataframe thead th {\n",
       "        text-align: right;\n",
       "    }\n",
       "</style>\n",
       "<table border=\"1\" class=\"dataframe\">\n",
       "  <thead>\n",
       "    <tr style=\"text-align: right;\">\n",
       "      <th></th>\n",
       "      <th>OBJECTID</th>\n",
       "      <th>depot</th>\n",
       "      <th>Shape_Length</th>\n",
       "      <th>Shape_Area</th>\n",
       "      <th>STATUS</th>\n",
       "      <th>House_Numb</th>\n",
       "      <th>Descriptio</th>\n",
       "      <th>Old_Number</th>\n",
       "      <th>SHQ_Housin</th>\n",
       "      <th>SHQ_Buildi</th>\n",
       "      <th>...</th>\n",
       "      <th>Construct1</th>\n",
       "      <th>Source</th>\n",
       "      <th>SHAPE_Leng</th>\n",
       "      <th>Hauteur</th>\n",
       "      <th>Descript_1</th>\n",
       "      <th>KRG_OWNERS</th>\n",
       "      <th>Old_buildi</th>\n",
       "      <th>Demo_Civic</th>\n",
       "      <th>depot_code</th>\n",
       "      <th>geometry</th>\n",
       "    </tr>\n",
       "  </thead>\n",
       "  <tbody>\n",
       "    <tr>\n",
       "      <th>0</th>\n",
       "      <td>1.0</td>\n",
       "      <td>Roc</td>\n",
       "      <td>1541.217149</td>\n",
       "      <td>56890.320474</td>\n",
       "      <td>None</td>\n",
       "      <td>NaN</td>\n",
       "      <td>None</td>\n",
       "      <td>NaN</td>\n",
       "      <td>None</td>\n",
       "      <td>None</td>\n",
       "      <td>...</td>\n",
       "      <td>None</td>\n",
       "      <td>None</td>\n",
       "      <td>NaN</td>\n",
       "      <td>NaN</td>\n",
       "      <td>None</td>\n",
       "      <td>None</td>\n",
       "      <td>None</td>\n",
       "      <td>None</td>\n",
       "      <td>0</td>\n",
       "      <td>MULTIPOLYGON (((348677.362 6898783.146, 348676...</td>\n",
       "    </tr>\n",
       "    <tr>\n",
       "      <th>1</th>\n",
       "      <td>2.0</td>\n",
       "      <td>Sables</td>\n",
       "      <td>910.166662</td>\n",
       "      <td>19210.165106</td>\n",
       "      <td>None</td>\n",
       "      <td>NaN</td>\n",
       "      <td>None</td>\n",
       "      <td>NaN</td>\n",
       "      <td>None</td>\n",
       "      <td>None</td>\n",
       "      <td>...</td>\n",
       "      <td>None</td>\n",
       "      <td>None</td>\n",
       "      <td>NaN</td>\n",
       "      <td>NaN</td>\n",
       "      <td>None</td>\n",
       "      <td>None</td>\n",
       "      <td>None</td>\n",
       "      <td>None</td>\n",
       "      <td>2</td>\n",
       "      <td>MULTIPOLYGON (((350013.029 6898753.623, 350022...</td>\n",
       "    </tr>\n",
       "    <tr>\n",
       "      <th>2</th>\n",
       "      <td>3.0</td>\n",
       "      <td>Sables</td>\n",
       "      <td>173.139916</td>\n",
       "      <td>2188.413313</td>\n",
       "      <td>None</td>\n",
       "      <td>NaN</td>\n",
       "      <td>None</td>\n",
       "      <td>NaN</td>\n",
       "      <td>None</td>\n",
       "      <td>None</td>\n",
       "      <td>...</td>\n",
       "      <td>None</td>\n",
       "      <td>None</td>\n",
       "      <td>NaN</td>\n",
       "      <td>NaN</td>\n",
       "      <td>None</td>\n",
       "      <td>None</td>\n",
       "      <td>None</td>\n",
       "      <td>None</td>\n",
       "      <td>2</td>\n",
       "      <td>MULTIPOLYGON (((349548.451 6898000.090, 349547...</td>\n",
       "    </tr>\n",
       "    <tr>\n",
       "      <th>3</th>\n",
       "      <td>4.0</td>\n",
       "      <td>Sables</td>\n",
       "      <td>116.764776</td>\n",
       "      <td>919.701373</td>\n",
       "      <td>None</td>\n",
       "      <td>NaN</td>\n",
       "      <td>None</td>\n",
       "      <td>NaN</td>\n",
       "      <td>None</td>\n",
       "      <td>None</td>\n",
       "      <td>...</td>\n",
       "      <td>None</td>\n",
       "      <td>None</td>\n",
       "      <td>NaN</td>\n",
       "      <td>NaN</td>\n",
       "      <td>None</td>\n",
       "      <td>None</td>\n",
       "      <td>None</td>\n",
       "      <td>None</td>\n",
       "      <td>2</td>\n",
       "      <td>MULTIPOLYGON (((349508.850 6898181.318, 349512...</td>\n",
       "    </tr>\n",
       "    <tr>\n",
       "      <th>4</th>\n",
       "      <td>5.0</td>\n",
       "      <td>Sables</td>\n",
       "      <td>77.387010</td>\n",
       "      <td>363.059802</td>\n",
       "      <td>None</td>\n",
       "      <td>NaN</td>\n",
       "      <td>None</td>\n",
       "      <td>NaN</td>\n",
       "      <td>None</td>\n",
       "      <td>None</td>\n",
       "      <td>...</td>\n",
       "      <td>None</td>\n",
       "      <td>None</td>\n",
       "      <td>NaN</td>\n",
       "      <td>NaN</td>\n",
       "      <td>None</td>\n",
       "      <td>None</td>\n",
       "      <td>None</td>\n",
       "      <td>None</td>\n",
       "      <td>2</td>\n",
       "      <td>MULTIPOLYGON (((349605.870 6897720.657, 349607...</td>\n",
       "    </tr>\n",
       "  </tbody>\n",
       "</table>\n",
       "<p>5 rows × 24 columns</p>\n",
       "</div>"
      ],
      "text/plain": [
       "   OBJECTID   depot  Shape_Length    Shape_Area STATUS  House_Numb Descriptio  \\\n",
       "0       1.0     Roc   1541.217149  56890.320474   None         NaN       None   \n",
       "1       2.0  Sables    910.166662  19210.165106   None         NaN       None   \n",
       "2       3.0  Sables    173.139916   2188.413313   None         NaN       None   \n",
       "3       4.0  Sables    116.764776    919.701373   None         NaN       None   \n",
       "4       5.0  Sables     77.387010    363.059802   None         NaN       None   \n",
       "\n",
       "   Old_Number SHQ_Housin SHQ_Buildi  ... Construct1 Source SHAPE_Leng Hauteur  \\\n",
       "0         NaN       None       None  ...       None   None        NaN     NaN   \n",
       "1         NaN       None       None  ...       None   None        NaN     NaN   \n",
       "2         NaN       None       None  ...       None   None        NaN     NaN   \n",
       "3         NaN       None       None  ...       None   None        NaN     NaN   \n",
       "4         NaN       None       None  ...       None   None        NaN     NaN   \n",
       "\n",
       "  Descript_1 KRG_OWNERS  Old_buildi  Demo_Civic depot_code  \\\n",
       "0       None       None        None        None          0   \n",
       "1       None       None        None        None          2   \n",
       "2       None       None        None        None          2   \n",
       "3       None       None        None        None          2   \n",
       "4       None       None        None        None          2   \n",
       "\n",
       "                                            geometry  \n",
       "0  MULTIPOLYGON (((348677.362 6898783.146, 348676...  \n",
       "1  MULTIPOLYGON (((350013.029 6898753.623, 350022...  \n",
       "2  MULTIPOLYGON (((349548.451 6898000.090, 349547...  \n",
       "3  MULTIPOLYGON (((349508.850 6898181.318, 349512...  \n",
       "4  MULTIPOLYGON (((349605.870 6897720.657, 349607...  \n",
       "\n",
       "[5 rows x 24 columns]"
      ]
     },
     "execution_count": 46,
     "metadata": {},
     "output_type": "execute_result"
    }
   ],
   "source": [
    "soil_vector = gpd.read_file('C:/Users/PaulBillecocq/Documents/UdS/KRG_DATA/vecteurs/a3d-depots-surface.gpkg')\n",
    "soil_vector.head()"
   ]
  },
  {
   "cell_type": "code",
   "execution_count": 47,
   "id": "6f78fe17-1cf0-4253-b305-127cecdc19da",
   "metadata": {},
   "outputs": [],
   "source": [
    "depot_names = soil_vector.depot.unique().tolist()\n",
    "# Making sure Hydro is at the right spot with regards to the ALIPNE3D codes (needs to be 01)\n",
    "depot_names.remove('Hydro')\n",
    "depot_names.insert(1, 'Hydro')\n",
    "depot_codes = [i for i in range(len(depot_names))]"
   ]
  },
  {
   "cell_type": "code",
   "execution_count": 48,
   "id": "9ed67833-8cec-47d9-a527-ec272e57245c",
   "metadata": {},
   "outputs": [],
   "source": [
    "mapping_dict = dict(zip(depot_names, depot_codes))"
   ]
  },
  {
   "cell_type": "code",
   "execution_count": 49,
   "id": "8b048b55-1853-4474-8fa3-2808b85d163a",
   "metadata": {},
   "outputs": [
    {
     "data": {
      "text/plain": [
       "{'Roc': 0,\n",
       " 'Hydro': 1,\n",
       " 'Sables': 2,\n",
       " 'Argiles': 3,\n",
       " 'Till': 4,\n",
       " 'Remblai_Hydro': 5,\n",
       " 'Remblai_Argiles': 6,\n",
       " 'Remblai_Sables': 7,\n",
       " 'Remblai_Roc': 8,\n",
       " 'Remblai_Till': 9,\n",
       " 'Batiment_Roc': 10,\n",
       " 'Batiment_Argiles': 11,\n",
       " 'Batiment_Sables': 12,\n",
       " 'Batiment_Till': 13,\n",
       " 'Batiment_Remblai_Argiles': 14,\n",
       " 'Batiment_Remblai_Roc': 15,\n",
       " 'Batiment_Remblai_Till': 16}"
      ]
     },
     "execution_count": 49,
     "metadata": {},
     "output_type": "execute_result"
    }
   ],
   "source": [
    "mapping_dict"
   ]
  },
  {
   "cell_type": "code",
   "execution_count": 50,
   "id": "d612a239-c177-470a-b811-646b5e633785",
   "metadata": {},
   "outputs": [],
   "source": [
    "soil_vector['depot_code'] = soil_vector.apply(lambda x : mapping_dict[x['depot']], axis=1)"
   ]
  },
  {
   "cell_type": "code",
   "execution_count": 76,
   "id": "170407bf-d7a9-4c14-908c-8f134e7f2445",
   "metadata": {},
   "outputs": [],
   "source": [
    "# We need to explode soil_vector because some items are multipolygons\n",
    "# rasterio's rasterize does not like multipolygons.\n",
    "soil_vector_exploded = soil_vector.loc[:, ['depot', 'depot_code', 'geometry']].explode(ignore_index=True)\n",
    "# Turns out also that bulding POLYGONS are actually POLYGONS Z. They need to be converted to 2d as well\n",
    "# rasterio only likes polygons.\n",
    "def convert_to_2d(geometry):\n",
    "    if geometry.has_z:\n",
    "        return Polygon([(x, y) for x, y, z in geometry.exterior.coords])\n",
    "    return geometry\n",
    "\n",
    "soil_vector_exploded['geometry'] = soil_vector_exploded['geometry'].apply(convert_to_2d)"
   ]
  },
  {
   "cell_type": "code",
   "execution_count": 78,
   "id": "1622d52e-b1f1-485e-a039-774d9b0229c4",
   "metadata": {},
   "outputs": [],
   "source": [
    "soil_vector_exploded.to_file('C:/Users/PaulBillecocq/Documents/UdS/KRG_DATA/vecteurs/a3d-depots-surface_exploded.gpkg')"
   ]
  },
  {
   "cell_type": "markdown",
   "id": "99219217-5656-4647-854d-d567bc1a9b4c",
   "metadata": {},
   "source": [
    "### Get DEM to copy the grid for soil depot rasterization"
   ]
  },
  {
   "cell_type": "code",
   "execution_count": 85,
   "id": "d9908eac-a653-4fff-942a-26929fd5f4fc",
   "metadata": {},
   "outputs": [],
   "source": [
    "dem = rasterio.open('C:/Users/PaulBillecocq/Documents/UdS/KRG_DATA/ALPINE3D-PREP/DEM/DEM_5m_subgridding_cleaned.tif')\n",
    "dem_array = dem.read(1)\n",
    "dem_meta = dem.meta"
   ]
  },
  {
   "cell_type": "code",
   "execution_count": 80,
   "id": "694dc832-b9ba-476b-9bd9-19939f5f7e21",
   "metadata": {},
   "outputs": [],
   "source": [
    "shapes = list(soil_vector_exploded.apply(lambda x : (x['geometry'], x['depot_code']), axis=1))"
   ]
  },
  {
   "cell_type": "code",
   "execution_count": 83,
   "id": "3f0efa0f-084b-4567-944c-6bbc509b139f",
   "metadata": {},
   "outputs": [],
   "source": [
    "rasterized_depots = rasterize(\n",
    "    shapes=shapes,\n",
    "    out_shape=(dem_meta['height'], dem_meta['width']),\n",
    "    transform=dem.transform,\n",
    "    all_touched=True,\n",
    "    dtype=rasterio.uint8\n",
    ")"
   ]
  },
  {
   "cell_type": "code",
   "execution_count": 86,
   "id": "2ea2506f-ad9d-47e4-8740-da4a77bea24b",
   "metadata": {},
   "outputs": [],
   "source": [
    "# Save the rasterized depots\n",
    "with rasterio.open('C:/Users/PaulBillecocq/Documents/UdS/KRG_DATA/ALPINE3D-PREP/soil-layers/depot_rasterized.tif', 'w', **dem_meta) as out_raster:\n",
    "    out_raster.write(rasterized_depots, 1)"
   ]
  }
 ],
 "metadata": {
  "kernelspec": {
   "display_name": "Python 3 (ipykernel)",
   "language": "python",
   "name": "python3"
  },
  "language_info": {
   "codemirror_mode": {
    "name": "ipython",
    "version": 3
   },
   "file_extension": ".py",
   "mimetype": "text/x-python",
   "name": "python",
   "nbconvert_exporter": "python",
   "pygments_lexer": "ipython3",
   "version": "3.12.3"
  }
 },
 "nbformat": 4,
 "nbformat_minor": 5
}
